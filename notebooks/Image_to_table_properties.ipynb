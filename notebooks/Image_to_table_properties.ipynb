{
 "cells": [
  {
   "cell_type": "code",
   "execution_count": 2,
   "id": "53d0e064",
   "metadata": {},
   "outputs": [
    {
     "name": "stdout",
     "output_type": "stream",
     "text": [
      "3.11.5\n"
     ]
    }
   ],
   "source": [
    "import pandas as pd\n",
    "#pd.set_option('display.max_columns', 500)\n",
    "#pd.set_option('display.max_rows', 500)\n",
    "import pickle\n",
    "from jupyter_dash import JupyterDash\n",
    "import dash\n",
    "from dash import dcc \n",
    "from dash import html\n",
    "from dash.dependencies import Input, Output\n",
    "import dash_bootstrap_components as dbc\n",
    "\n",
    "import sys\n",
    "import numpy as np\n",
    "np.set_printoptions(threshold=sys.maxsize)\n",
    "\n",
    "import matplotlib.pyplot as plt\n",
    "from PIL import Image, ImageEnhance, ImageDraw,ImageFont\n",
    "import seaborn as sns\n",
    "#sns.set()\n",
    "import arviz as az\n",
    "import pymc3 as pm\n",
    "print(pm.__version__)\n",
    "import theano.tensor as tt\n",
    "import patsy\n",
    "\n",
    "import os\n",
    "import re\n",
    "import glob\n",
    "import random\n",
    "# import plotnine\n",
    "from sklearn import preprocessing\n",
    "from tqdm import tqdm\n",
    "\n",
    "# import plotnine \n",
    "# from plotnine.data import economics \n",
    "# from plotnine import * \n",
    "import plotly.express as px\n",
    "\n",
    "from skimage import measure, restoration,morphology\n",
    "from skimage import io, filters, measure, color, img_as_ubyte\n",
    "from skimage.draw import disk\n",
    "from skimage import measure, restoration,morphology\n",
    "\n",
    "RANDOM_SEED = 8927\n",
    "np.random.seed(RANDOM_SEED)\n",
    "\n",
    "\n",
    "%config InlineBackend.figure_format = 'retina'\n",
    "os.chdir(r'F:\\HAB_2\\PrinzScreen\\training_classfication')\n",
    "from utils import AIPS_cellpose as AC\n",
    "from utils import AIPS_file_display as AFD"
   ]
  },
  {
   "cell_type": "markdown",
   "id": "0ad12ce7",
   "metadata": {},
   "source": [
    "Preforming multivariate logistic regression classification  \n",
    "Save six mixed images based on manual classification:\n",
    "\n",
    "input_class: 'F:\\HAB_2\\PrinzScreen\\output_lab_meeting\\kerenl_60_mix\\input_mix'\\\n",
    "input_image : 'F:\\HAB_2\\PrinzScreen\\output_lab_meeting\\kerenl_60_mix\\input_mix'\\\n",
    "output: 'F:\\HAB_2\\PrinzScreen\\output_lab_meeting\\kerenl_60_mix' \n"
   ]
  },
  {
   "cell_type": "code",
   "execution_count": 3,
   "id": "1a80cb41",
   "metadata": {},
   "outputs": [],
   "source": [
    "path =  r'F:\\HAB_2\\PrinzScreen\\output_lab_meeting\\kerenl_60_mix\\input_mix'\n",
    "os.chdir(path)\n",
    "images_name = glob.glob(\"*.tif\")\n",
    "AIPS_pose_object = AC.AIPS_cellpose(Image_name = images_name[0], path= path, model_type=\"cyto\", channels=[0,0])\n",
    "img = AIPS_pose_object.cellpose_image_load()\n",
    "# create mask for the entire image\n",
    "mask, table = AIPS_pose_object.cellpose_segmantation(image_input=img[0,:,:])\n",
    "table_gran_temp = AIPS_pose_object.measure_properties(input_image=img[0,:,:])"
   ]
  },
  {
   "cell_type": "code",
   "execution_count": 4,
   "id": "05921372",
   "metadata": {},
   "outputs": [
    {
     "data": {
      "text/plain": [
       "dict_keys(['label', 'centroid-0', 'centroid-1', 'area', 'eccentricity', 'euler_number', 'extent', 'feret_diameter_max', 'inertia_tensor-0-0', 'inertia_tensor-0-1', 'inertia_tensor-1-0', 'inertia_tensor-1-1', 'inertia_tensor_eigvals-0', 'inertia_tensor_eigvals-1', 'orientation', 'perimeter', 'perimeter_crofton', 'solidity', 'sd_intensity', 'skew_intensity', 'pixelcount', 'mean_int'])"
      ]
     },
     "execution_count": 4,
     "metadata": {},
     "output_type": "execute_result"
    }
   ],
   "source": [
    "table_gran_temp.keys()"
   ]
  },
  {
   "cell_type": "code",
   "execution_count": 23,
   "id": "70e3fd1f",
   "metadata": {},
   "outputs": [],
   "source": [
    "def pm_table_from_image(path,image_number = 1,kernel_lop = False,kernel_size=20):\n",
    "    os.chdir(path)\n",
    "    images_name = glob.glob(\"*.tif\")\n",
    "    AIPS_pose_object = AC.AIPS_cellpose(Image_name = images_name[image_number], path= path, model_type=\"cyto\", channels=[0,0])\n",
    "    img = AIPS_pose_object.cellpose_image_load()\n",
    "    # create mask for the entire image\n",
    "    mask, table = AIPS_pose_object.cellpose_segmantation(image_input=img[0,:,:])\n",
    "    table_gran_temp = AIPS_pose_object.measure_properties(input_image=img[0,:,:])\n",
    "    table_gran = pd.DataFrame(table_gran_temp['mean_int'].tolist())\n",
    "    # kernel loop:\n",
    "    if kernel_lop:\n",
    "        open_vec = np.linspace(1, 80, kernel_size, endpoint=False, dtype=int)\n",
    "        for i in range(1, len(open_vec)):\n",
    "            selem = morphology.disk(open_vec[i], dtype=bool)\n",
    "            eros_pix = morphology.erosion(img[0,:,:], selem=selem)\n",
    "            rec = morphology.dilation(eros_pix, selem=selem)\n",
    "            table_gran_temp = AIPS_pose_object.measure_properties(input_image=rec)\n",
    "            table_gran[int(open_vec[i])] = table_gran_temp['mean_int'].tolist()\n",
    "        table_ = pd.DataFrame({'label':table.index.values,'area':table['area'].values,'centroid-0':table['centroid-0'].values,'centroid-1':table['centroid-1'].values})\n",
    "        table_gran_comp = pd.concat((table_,table_gran),1)\n",
    "        table_gran_comp = table_gran_comp.melt(id_vars=[\"label\", \"area\",\"centroid-0\",\"centroid-1\"])\n",
    "        table_out = table_gran_comp.sort_values(['label','variable']).reset_index(drop=True)\n",
    "        table_out = table_out.rename(columns={\"label\":\"image_group\",\"variable\": \"raius_list\", \"value\": \"image_signal\"})\n",
    "        from sklearn import preprocessing\n",
    "        table_sel = table_out\n",
    "        # class_name =  table_sel['class'].values\n",
    "        image_group =  table_sel['image_group'].values\n",
    "        le = preprocessing.LabelEncoder()\n",
    "        # encoding\n",
    "        # class_name_encoded=le.fit_transform(class_name).tolist()\n",
    "        image_group_encoded=le.fit_transform(image_group).tolist()\n",
    "        table_dict={'image_signal':table_sel.image_signal.values.tolist(),\n",
    "                    'raius_list':table_sel.raius_list.values.tolist(),\n",
    "                    'image_group':image_group_encoded}\n",
    "        table_fin = pd.DataFrame(table_dict)\n",
    "        table_fin['image_group'] = pd.Categorical(table_fin['image_group'], ordered=False)\n",
    "        return table_fin, mask, img,table_\n",
    "    else:\n",
    "        selem = morphology.disk(kernel_size, dtype=bool)\n",
    "        eros_pix = morphology.erosion(img[0,:,:], selem=selem)\n",
    "        rec = morphology.dilation(eros_pix, selem=selem)\n",
    "        table_gran_temp = AIPS_pose_object.measure_properties(input_image=rec)\n",
    "        table_gran[int(kernel_size)] = table_gran_temp['mean_int'].tolist()\n",
    "        table_gran_temp = pd.DataFrame(table_gran_temp)\n",
    "        table_ = pd.DataFrame({'label':table_gran_temp.index.values,'area':table_gran_temp['area'].values,'centroid-0':table_gran_temp['centroid-0'].values,\n",
    "                       'centroid-1':table_gran_temp['centroid-1'].values, 'sd_intensity':table_gran_temp['sd_intensity'].values , \n",
    "                       'skew_intensity':table_gran_temp['skew_intensity'].values, 'pixelcount':table_gran_temp['pixelcount'].values,\n",
    "                       'mean_int':table_gran_temp['mean_int'].values})\n",
    "        table_gran_comp = pd.concat((table_,table_gran),1)\n",
    "        table_fin = table_gran_comp\n",
    "        \n",
    "        blank = np.zeros_like(img[0,:,:])\n",
    "        img_gs = img_as_ubyte(blank)\n",
    "        PIL_image = Image.fromarray(img_gs)\n",
    "        # round\n",
    "        info_table = table_gran_comp.round({'centroid-0': 0, 'centroid-1': 0})\n",
    "        #     info_table['predict_round'] = info_table.loc[:, 'predict'].astype(float).round(round_n)\n",
    "        #     info_table['area_round'] = info_table.loc[:, 'area'].astype(float).round(round_n)\n",
    "        info_table = info_table.reset_index(drop=True)\n",
    "        draw = ImageDraw.Draw(PIL_image)\n",
    "        # use a bitmap font\n",
    "        font = ImageFont.truetype(\"arial.ttf\", 30, encoding=\"unic\")\n",
    "        for i in range(len(info_table)):\n",
    "            draw.text((info_table.iloc[i, 3].astype('int64'), info_table.iloc[i, 2].astype('int64')),\n",
    "                      str(info_table.iloc[i, 0]), 'red', font=font)\n",
    "        PIL_image_input = Image.fromarray(img_as_ubyte(img[0,:,:]))\n",
    "        return images_name[image_number],table_fin, mask, img,table_,PIL_image,PIL_image_input"
   ]
  },
  {
   "cell_type": "code",
   "execution_count": 24,
   "id": "ef5448b7",
   "metadata": {},
   "outputs": [
    {
     "name": "stderr",
     "output_type": "stream",
     "text": [
      "F:\\Gil\\anaconda\\envs\\pymc3_cellpose\\lib\\site-packages\\ipykernel_launcher.py:40: FutureWarning: `selem` is a deprecated argument name for `erosion`. It will be removed in version 1.0. Please use `footprint` instead.\n",
      "F:\\Gil\\anaconda\\envs\\pymc3_cellpose\\lib\\site-packages\\ipykernel_launcher.py:41: FutureWarning: `selem` is a deprecated argument name for `dilation`. It will be removed in version 1.0. Please use `footprint` instead.\n",
      "F:\\Gil\\anaconda\\envs\\pymc3_cellpose\\lib\\site-packages\\ipykernel_launcher.py:49: FutureWarning: In a future version of pandas all arguments of concat except for the argument 'objs' will be keyword-only\n",
      "F:\\Gil\\anaconda\\envs\\pymc3_cellpose\\lib\\site-packages\\skimage\\util\\dtype.py:541: UserWarning: Downcasting uint16 to uint8 without scaling because max value 0 fits in uint8\n",
      "  return _convert(image, np.uint8, force_copy)\n"
     ]
    }
   ],
   "source": [
    "path =  r'F:\\HAB_2\\PrinzScreen\\output_lab_meeting\\kerenl_60_mix\\input_mix'\n",
    "path_out = r'F:\\HAB_2\\PrinzScreen\\output_lab_meeting\\kerenl_60_mix'\n",
    "for i in range(7):\n",
    "    name_,table_fin, mask, img,table_,PIL_image,PIL_image_input = pm_table_from_image(path,image_number=i,\n",
    "                                                                                      kernel_lop = False,kernel_size=60)\n",
    "    table_fin.to_csv(os.path.join(path_out,'Table_mix_{}.csv'.format(name_)))\n",
    "    np.save(os.path.join(path_out,'mask_{}.npy'.format(name_)),mask)\n",
    "    np.save(os.path.join(path_out,'img_{}.npy'.format(name_)),img)\n",
    "    plt.imsave(os.path.join(path_out,'img_lable_{}.png'.format(name_)),PIL_image)\n",
    "    plt.imsave(os.path.join(path_out,'img_{}.png'.format(name_)),PIL_image_input)  \n"
   ]
  },
  {
   "cell_type": "code",
   "execution_count": null,
   "id": "13384dc4",
   "metadata": {},
   "outputs": [],
   "source": [
    "dict_keys(['label', 'centroid-0', 'centroid-1', 'area', 'eccentricity', 'euler_number', 'extent', 'feret_diameter_max', 'inertia_tensor-0-0', 'inertia_tensor-0-1', 'inertia_tensor-1-0', 'inertia_tensor-1-1', 'inertia_tensor_eigvals-0', 'inertia_tensor_eigvals-1', 'orientation', 'perimeter', 'perimeter_crofton', 'solidity', 'sd_intensity', 'skew_intensity', 'pixelcount', 'mean_int'])"
   ]
  },
  {
   "cell_type": "code",
   "execution_count": null,
   "id": "63553aac",
   "metadata": {},
   "outputs": [],
   "source": [
    "table_ = pd.DataFrame({'label':table_gran_temp.index.values,'area':table_gran_temp['area'].values,'centroid-0':table_gran_temp['centroid-0'].values,\n",
    "                   'centroid-1':table_gran_temp['centroid-1'].values, 'sd_intensity':table_gran_temp['sd_intensity'].values , \n",
    "                   'skew_intensity':table_gran_temp['skew_intensity'].values, 'pixelcount':table_gran_temp['pixelcount'].values,\n",
    "                   'mean_int':table_gran_temp['mean_int'].values,'eccentricity':table_gran_temp['eccentricity'].values,\n",
    "                    'euler_number':table_gran_temp['euler_number'].values, 'extent':table_gran_temp['extent'].values,\n",
    "                       'feret_diameter_max':table_gran_temp['feret_diameter_max'].values,'orientation':table_gran_temp['orientation'].values,\n",
    "                      'perimeter':table_gran_temp['perimeter'].values,  'solidity':table_gran_temp['solidity'].values,  })"
   ]
  },
  {
   "cell_type": "code",
   "execution_count": 5,
   "id": "fb8fe7e9",
   "metadata": {},
   "outputs": [],
   "source": [
    "def pm_table_from_image(path,image_number = 1,kernel_lop = False,kernel_size=20):\n",
    "    os.chdir(path)\n",
    "    images_name = glob.glob(\"*.tif\")\n",
    "    AIPS_pose_object = AC.AIPS_cellpose(Image_name = images_name[image_number], path= path, model_type=\"cyto\", channels=[0,0])\n",
    "    img = AIPS_pose_object.cellpose_image_load()\n",
    "    # create mask for the entire image\n",
    "    mask, table = AIPS_pose_object.cellpose_segmantation(image_input=img[0,:,:])\n",
    "    table_gran_temp = AIPS_pose_object.measure_properties(input_image=img[0,:,:])\n",
    "    table_gran = pd.DataFrame(table_gran_temp['mean_int'].tolist())\n",
    "    # kernel loop:\n",
    "    if kernel_lop:\n",
    "        open_vec = np.linspace(1, 80, kernel_size, endpoint=False, dtype=int)\n",
    "        for i in range(1, len(open_vec)):\n",
    "            selem = morphology.disk(open_vec[i], dtype=bool)\n",
    "            eros_pix = morphology.erosion(img[0,:,:], selem=selem)\n",
    "            rec = morphology.dilation(eros_pix, selem=selem)\n",
    "            table_gran_temp = AIPS_pose_object.measure_properties(input_image=rec)\n",
    "            table_gran[int(open_vec[i])] = table_gran_temp['mean_int'].tolist()\n",
    "        table_ = pd.DataFrame({'label':table.index.values,'area':table['area'].values,'centroid-0':table['centroid-0'].values,'centroid-1':table['centroid-1'].values})\n",
    "        table_gran_comp = pd.concat((table_,table_gran),1)\n",
    "        table_gran_comp = table_gran_comp.melt(id_vars=[\"label\", \"area\",\"centroid-0\",\"centroid-1\"])\n",
    "        table_out = table_gran_comp.sort_values(['label','variable']).reset_index(drop=True)\n",
    "        table_out = table_out.rename(columns={\"label\":\"image_group\",\"variable\": \"raius_list\", \"value\": \"image_signal\"})\n",
    "        from sklearn import preprocessing\n",
    "        table_sel = table_out\n",
    "        # class_name =  table_sel['class'].values\n",
    "        image_group =  table_sel['image_group'].values\n",
    "        le = preprocessing.LabelEncoder()\n",
    "        # encoding\n",
    "        # class_name_encoded=le.fit_transform(class_name).tolist()\n",
    "        image_group_encoded=le.fit_transform(image_group).tolist()\n",
    "        table_dict={'image_signal':table_sel.image_signal.values.tolist(),\n",
    "                    'raius_list':table_sel.raius_list.values.tolist(),\n",
    "                    'image_group':image_group_encoded}\n",
    "        table_fin = pd.DataFrame(table_dict)\n",
    "        table_fin['image_group'] = pd.Categorical(table_fin['image_group'], ordered=False)\n",
    "        return table_fin, mask, img,table_\n",
    "    else:\n",
    "        selem = morphology.disk(kernel_size, dtype=bool)\n",
    "        eros_pix = morphology.erosion(img[0,:,:], selem=selem)\n",
    "        rec = morphology.dilation(eros_pix, selem=selem)\n",
    "        table_gran_temp = AIPS_pose_object.measure_properties(input_image=rec)\n",
    "        table_gran[int(kernel_size)] = table_gran_temp['mean_int'].tolist()\n",
    "        table_gran_temp = pd.DataFrame(table_gran_temp)\n",
    "        table_ = pd.DataFrame({'label':table_gran_temp.index.values,'area':table_gran_temp['area'].values,'centroid-0':table_gran_temp['centroid-0'].values,\n",
    "                   'centroid-1':table_gran_temp['centroid-1'].values, 'sd_intensity':table_gran_temp['sd_intensity'].values , \n",
    "                   'skew_intensity':table_gran_temp['skew_intensity'].values, 'pixelcount':table_gran_temp['pixelcount'].values,\n",
    "                   'mean_int':table_gran_temp['mean_int'].values,'eccentricity':table_gran_temp['eccentricity'].values,\n",
    "                    'euler_number':table_gran_temp['euler_number'].values, 'extent':table_gran_temp['extent'].values,\n",
    "                       'feret_diameter_max':table_gran_temp['feret_diameter_max'].values,'orientation':table_gran_temp['orientation'].values,\n",
    "                      'perimeter':table_gran_temp['perimeter'].values,  'solidity':table_gran_temp['solidity'].values,  })\n",
    "        table_gran_comp = pd.concat((table_,table_gran),1)\n",
    "        table_fin = table_gran_comp\n",
    "        \n",
    "        blank = np.zeros_like(img[0,:,:])\n",
    "        img_gs = img_as_ubyte(blank)\n",
    "        PIL_image = Image.fromarray(img_gs)\n",
    "        # round\n",
    "        info_table = table_gran_comp.round({'centroid-0': 0, 'centroid-1': 0})\n",
    "        #     info_table['predict_round'] = info_table.loc[:, 'predict'].astype(float).round(round_n)\n",
    "        #     info_table['area_round'] = info_table.loc[:, 'area'].astype(float).round(round_n)\n",
    "        info_table = info_table.reset_index(drop=True)\n",
    "        draw = ImageDraw.Draw(PIL_image)\n",
    "        # use a bitmap font\n",
    "        font = ImageFont.truetype(\"arial.ttf\", 30, encoding=\"unic\")\n",
    "        for i in range(len(info_table)):\n",
    "            draw.text((info_table.iloc[i, 3].astype('int64'), info_table.iloc[i, 2].astype('int64')),\n",
    "                      str(info_table.iloc[i, 0]), 'red', font=font)\n",
    "        PIL_image_input = Image.fromarray(img_as_ubyte(img[0,:,:]))\n",
    "        return images_name[image_number],table_fin, mask, img,table_,PIL_image,PIL_image_input"
   ]
  },
  {
   "cell_type": "code",
   "execution_count": null,
   "id": "cb9148bd",
   "metadata": {},
   "outputs": [
    {
     "name": "stderr",
     "output_type": "stream",
     "text": [
      "F:\\Gil\\anaconda\\envs\\pymc3_cellpose\\lib\\site-packages\\ipykernel_launcher.py:40: FutureWarning: `selem` is a deprecated argument name for `erosion`. It will be removed in version 1.0. Please use `footprint` instead.\n",
      "F:\\Gil\\anaconda\\envs\\pymc3_cellpose\\lib\\site-packages\\ipykernel_launcher.py:41: FutureWarning: `selem` is a deprecated argument name for `dilation`. It will be removed in version 1.0. Please use `footprint` instead.\n",
      "F:\\Gil\\anaconda\\envs\\pymc3_cellpose\\lib\\site-packages\\ipykernel_launcher.py:52: FutureWarning: In a future version of pandas all arguments of concat except for the argument 'objs' will be keyword-only\n",
      "F:\\Gil\\anaconda\\envs\\pymc3_cellpose\\lib\\site-packages\\skimage\\util\\dtype.py:541: UserWarning: Downcasting uint16 to uint8 without scaling because max value 0 fits in uint8\n",
      "  return _convert(image, np.uint8, force_copy)\n"
     ]
    }
   ],
   "source": [
    "path =  r'F:\\HAB_2\\PrinzScreen\\output_lab_meeting\\kerenl_60_mix\\input_mix'\n",
    "path_out = r'F:\\HAB_2\\PrinzScreen\\output_lab_meeting\\kerenl_60_mix\\Properties'\n",
    "for i in range(7):\n",
    "    name_,table_fin, mask, img,table_,PIL_image,PIL_image_input = pm_table_from_image(path,image_number=i,\n",
    "                                                                                      kernel_lop = False,kernel_size=60)\n",
    "    table_fin.to_csv(os.path.join(path_out,'Table_mix_{}.csv'.format(name_)))\n",
    "    np.save(os.path.join(path_out,'mask_{}.npy'.format(name_)),mask)\n",
    "    np.save(os.path.join(path_out,'img_{}.npy'.format(name_)),img)\n",
    "    plt.imsave(os.path.join(path_out,'img_lable_{}.png'.format(name_)),PIL_image)\n",
    "    plt.imsave(os.path.join(path_out,'img_{}.png'.format(name_)),PIL_image_input)  "
   ]
  },
  {
   "cell_type": "code",
   "execution_count": null,
   "id": "459483b8",
   "metadata": {},
   "outputs": [],
   "source": []
  }
 ],
 "metadata": {
  "kernelspec": {
   "display_name": "Python [conda env:pymc3_cellpose] *",
   "language": "python",
   "name": "conda-env-pymc3_cellpose-py"
  },
  "language_info": {
   "codemirror_mode": {
    "name": "ipython",
    "version": 3
   },
   "file_extension": ".py",
   "mimetype": "text/x-python",
   "name": "python",
   "nbconvert_exporter": "python",
   "pygments_lexer": "ipython3",
   "version": "3.7.12"
  },
  "latex_envs": {
   "LaTeX_envs_menu_present": true,
   "autoclose": false,
   "autocomplete": true,
   "bibliofile": "biblio.bib",
   "cite_by": "apalike",
   "current_citInitial": 1,
   "eqLabelWithNumbers": true,
   "eqNumInitial": 1,
   "hotkeys": {
    "equation": "Ctrl-E",
    "itemize": "Ctrl-I"
   },
   "labels_anchors": false,
   "latex_user_defs": false,
   "report_style_numbering": false,
   "user_envs_cfg": false
  }
 },
 "nbformat": 4,
 "nbformat_minor": 5
}
